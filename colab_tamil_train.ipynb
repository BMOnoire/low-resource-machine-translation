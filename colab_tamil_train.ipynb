{
  "nbformat": 4,
  "nbformat_minor": 0,
  "metadata": {
    "accelerator": "GPU",
    "colab": {
      "name": "colab_tamil_train.ipynb",
      "provenance": [],
      "collapsed_sections": [],
      "authorship_tag": "ABX9TyMjeSvrLrrb2RBTg2255zG6",
      "include_colab_link": true
    },
    "kernelspec": {
      "display_name": "Python 3",
      "name": "python3"
    }
  },
  "cells": [
    {
      "cell_type": "markdown",
      "metadata": {
        "id": "view-in-github",
        "colab_type": "text"
      },
      "source": [
        "<a href=\"https://colab.research.google.com/github/BMOnoire/low-resource-machine-translation/blob/master/colab_tamil_train.ipynb\" target=\"_parent\"><img src=\"https://colab.research.google.com/assets/colab-badge.svg\" alt=\"Open In Colab\"/></a>"
      ]
    },
    {
      "cell_type": "code",
      "metadata": {
        "colab": {
          "base_uri": "https://localhost:8080/"
        },
        "id": "KWbXrtP9DKxU",
        "outputId": "c318986f-b808-4eb3-c687-ebc5292d4504"
      },
      "source": [
        "import tensorflow as tf\n",
        "# some check if tf is allright, if GPU: 0 then check Runtime->Change Runtime->GPU\n",
        "print(tf.__version__)\n",
        "print(\"Num GPUs Available: \", len(tf.config.experimental.list_physical_devices('GPU')))"
      ],
      "execution_count": 2,
      "outputs": [
        {
          "output_type": "stream",
          "text": [
            "2.4.0\n",
            "Num GPUs Available:  1\n"
          ],
          "name": "stdout"
        }
      ]
    },
    {
      "cell_type": "code",
      "metadata": {
        "colab": {
          "base_uri": "https://localhost:8080/"
        },
        "id": "FAMRU6h6P_00",
        "outputId": "cd9aebde-f829-48cb-c9e3-6ecb922c4aa8"
      },
      "source": [
        "# install stuff and import aachenscript\r\n",
        "print(\"INSTALL fairseq :\")\r\n",
        "!pip install fairseq\r\n",
        "print(\"\\n\\n\\nINSTALL sacremoses :\")\r\n",
        "!pip install sacremoses\r\n",
        "print(\"\\n\\n\\nIMPORT aachenscript :\")\r\n",
        "!git clone https://github.com/GiIbert/aachenscript"
      ],
      "execution_count": 1,
      "outputs": [
        {
          "output_type": "stream",
          "text": [
            "INSTALL fairseq :\n",
            "Requirement already satisfied: fairseq in /usr/local/lib/python3.6/dist-packages (0.10.2)\n",
            "Requirement already satisfied: regex in /usr/local/lib/python3.6/dist-packages (from fairseq) (2019.12.20)\n",
            "Requirement already satisfied: cffi in /usr/local/lib/python3.6/dist-packages (from fairseq) (1.14.4)\n",
            "Requirement already satisfied: hydra-core in /usr/local/lib/python3.6/dist-packages (from fairseq) (1.0.4)\n",
            "Requirement already satisfied: numpy in /usr/local/lib/python3.6/dist-packages (from fairseq) (1.19.4)\n",
            "Requirement already satisfied: cython in /usr/local/lib/python3.6/dist-packages (from fairseq) (0.29.21)\n",
            "Requirement already satisfied: tqdm in /usr/local/lib/python3.6/dist-packages (from fairseq) (4.41.1)\n",
            "Requirement already satisfied: sacrebleu>=1.4.12 in /usr/local/lib/python3.6/dist-packages (from fairseq) (1.4.14)\n",
            "Requirement already satisfied: dataclasses in /usr/local/lib/python3.6/dist-packages (from fairseq) (0.8)\n",
            "Requirement already satisfied: torch in /usr/local/lib/python3.6/dist-packages (from fairseq) (1.7.0+cu101)\n",
            "Requirement already satisfied: pycparser in /usr/local/lib/python3.6/dist-packages (from cffi->fairseq) (2.20)\n",
            "Requirement already satisfied: importlib-resources; python_version < \"3.9\" in /usr/local/lib/python3.6/dist-packages (from hydra-core->fairseq) (3.3.0)\n",
            "Requirement already satisfied: omegaconf>=2.0.5 in /usr/local/lib/python3.6/dist-packages (from hydra-core->fairseq) (2.0.5)\n",
            "Requirement already satisfied: antlr4-python3-runtime==4.8 in /usr/local/lib/python3.6/dist-packages (from hydra-core->fairseq) (4.8)\n",
            "Requirement already satisfied: portalocker in /usr/local/lib/python3.6/dist-packages (from sacrebleu>=1.4.12->fairseq) (2.0.0)\n",
            "Requirement already satisfied: future in /usr/local/lib/python3.6/dist-packages (from torch->fairseq) (0.16.0)\n",
            "Requirement already satisfied: typing-extensions in /usr/local/lib/python3.6/dist-packages (from torch->fairseq) (3.7.4.3)\n",
            "Requirement already satisfied: zipp>=0.4; python_version < \"3.8\" in /usr/local/lib/python3.6/dist-packages (from importlib-resources; python_version < \"3.9\"->hydra-core->fairseq) (3.4.0)\n",
            "Requirement already satisfied: PyYAML>=5.1.* in /usr/local/lib/python3.6/dist-packages (from omegaconf>=2.0.5->hydra-core->fairseq) (5.3.1)\n",
            "\n",
            "\n",
            "\n",
            "INSTALL sacremoses :\n",
            "Requirement already satisfied: sacremoses in /usr/local/lib/python3.6/dist-packages (0.0.43)\n",
            "Requirement already satisfied: click in /usr/local/lib/python3.6/dist-packages (from sacremoses) (7.1.2)\n",
            "Requirement already satisfied: six in /usr/local/lib/python3.6/dist-packages (from sacremoses) (1.15.0)\n",
            "Requirement already satisfied: tqdm in /usr/local/lib/python3.6/dist-packages (from sacremoses) (4.41.1)\n",
            "Requirement already satisfied: regex in /usr/local/lib/python3.6/dist-packages (from sacremoses) (2019.12.20)\n",
            "Requirement already satisfied: joblib in /usr/local/lib/python3.6/dist-packages (from sacremoses) (1.0.0)\n",
            "\n",
            "\n",
            "\n",
            "IMPORT aachenscript :\n",
            "fatal: destination path 'aachenscript' already exists and is not an empty directory.\n"
          ],
          "name": "stdout"
        }
      ]
    },
    {
      "cell_type": "code",
      "metadata": {
        "colab": {
          "base_uri": "https://localhost:8080/"
        },
        "id": "tP5D4GlBOZ9n",
        "outputId": "56c315dc-378c-4ff1-e572-f0e0f46a74b2"
      },
      "source": [
        "!echo $HOME/aachenscript/checkpoints"
      ],
      "execution_count": 3,
      "outputs": [
        {
          "output_type": "stream",
          "text": [
            "/root/aachenscript/checkpoints\n"
          ],
          "name": "stdout"
        }
      ]
    },
    {
      "cell_type": "code",
      "metadata": {
        "colab": {
          "base_uri": "https://localhost:8080/"
        },
        "id": "JJdF7pmvXZaU",
        "outputId": "3e4c34bf-994c-478f-daf2-24d2b0456276"
      },
      "source": [
        "\n",
        "!CUDA_VISIBLE_DEVICES=0 fairseq-train aachenscript/data-bin/enta \\\n",
        "    --task translation \\\n",
        "    --batch-size 48 \\\n",
        "    --arch transformer --encoder-layers 5 --decoder-layers 5 --share-decoder-input-output-embed  --encoder-attention-heads 8 --decoder-attention-heads 8 --encoder-embed-dim 512 --decoder-embed-dim 512 \\\n",
        "    --optimizer adam --adam-betas '(0.9, 0.98)' --clip-norm 0.0 \\\n",
        "    --lr 1e-4 --lr-scheduler inverse_sqrt --warmup-updates 4000 \\\n",
        "    --dropout 0.25 --weight-decay 0.0001 \\\n",
        "    --criterion label_smoothed_cross_entropy --label-smoothing 0.1 \\\n",
        "    --max-tokens 4096 \\\n",
        "    --tokenizer moses \\\n",
        "    --eval-bleu \\\n",
        "    --eval-bleu-args '{\"beam\": 5, \"max_len_a\": 1.2, \"max_len_b\": 10}' \\\n",
        "    --eval-bleu-detok moses \\\n",
        "    --eval-bleu-remove-bpe \\\n",
        "    --eval-bleu-print-samples \\\n",
        "    --best-checkpoint-metric bleu --maximize-best-checkpoint-metric \\\n",
        "    --save-dir checkpoints \\\n",
        "    --log-format=json --log-interval=10 2>&1 | tee train.log &"
      ],
      "execution_count": null,
      "outputs": [
        {
          "output_type": "stream",
          "text": [
            "2021-01-07 16:55:25 | INFO | fairseq.checkpoint_utils | saved checkpoint checkpoints/checkpoint3.pt (epoch 3 @ 2274 updates, score 0.66) (writing took 58.41841359099999 seconds)\n",
            "2021-01-07 16:55:25 | INFO | fairseq_cli.train | end of epoch 3 (average epoch stats below)\n",
            "2021-01-07 16:55:25 | INFO | train | {\"epoch\": 3, \"train_loss\": \"11.98\", \"train_nll_loss\": \"11.318\", \"train_ppl\": \"2552.59\", \"train_wps\": \"1092.6\", \"train_ups\": \"1.42\", \"train_wpb\": \"771.4\", \"train_bsz\": \"48\", \"train_num_updates\": \"2274\", \"train_lr\": \"5.685e-05\", \"train_gnorm\": \"2.669\", \"train_train_wall\": \"250\", \"train_wall\": \"1526\"}\n",
            "2021-01-07 16:55:25 | INFO | fairseq.trainer | begin training epoch 4\n",
            "2021-01-07 16:55:27 | INFO | train_inner | {\"epoch\": 4, \"update\": 3.008, \"loss\": \"11.58\", \"nll_loss\": \"10.883\", \"ppl\": \"1887.98\", \"wps\": \"24.8\", \"ups\": \"0.03\", \"wpb\": \"710.8\", \"bsz\": \"48\", \"num_updates\": \"2280\", \"lr\": \"5.7e-05\", \"gnorm\": \"2.507\", \"train_wall\": \"3\", \"wall\": \"1528\"}\n",
            "2021-01-07 16:55:31 | INFO | train_inner | {\"epoch\": 4, \"update\": 3.021, \"loss\": \"11.475\", \"nll_loss\": \"10.757\", \"ppl\": \"1730.57\", \"wps\": \"2317.5\", \"ups\": \"3.07\", \"wpb\": \"756\", \"bsz\": \"48\", \"num_updates\": \"2290\", \"lr\": \"5.725e-05\", \"gnorm\": \"2.256\", \"train_wall\": \"3\", \"wall\": \"1531\"}\n",
            "2021-01-07 16:55:35 | INFO | train_inner | {\"epoch\": 4, \"update\": 3.034, \"loss\": \"11.79\", \"nll_loss\": \"11.099\", \"ppl\": \"2194.18\", \"wps\": \"2434.1\", \"ups\": \"2.47\", \"wpb\": \"985.8\", \"bsz\": \"48\", \"num_updates\": \"2300\", \"lr\": \"5.75e-05\", \"gnorm\": \"2.451\", \"train_wall\": \"4\", \"wall\": \"1535\"}\n",
            "2021-01-07 16:55:38 | INFO | train_inner | {\"epoch\": 4, \"update\": 3.047, \"loss\": \"11.81\", \"nll_loss\": \"11.141\", \"ppl\": \"2258.8\", \"wps\": \"2392.4\", \"ups\": \"2.99\", \"wpb\": \"800.4\", \"bsz\": \"48\", \"num_updates\": \"2310\", \"lr\": \"5.775e-05\", \"gnorm\": \"2.873\", \"train_wall\": \"3\", \"wall\": \"1538\"}\n",
            "2021-01-07 16:55:42 | INFO | train_inner | {\"epoch\": 4, \"update\": 3.061, \"loss\": \"11.9\", \"nll_loss\": \"11.234\", \"ppl\": \"2408.25\", \"wps\": \"2335.7\", \"ups\": \"2.53\", \"wpb\": \"924.6\", \"bsz\": \"48\", \"num_updates\": \"2320\", \"lr\": \"5.8e-05\", \"gnorm\": \"2.27\", \"train_wall\": \"4\", \"wall\": \"1542\"}\n",
            "2021-01-07 16:55:45 | INFO | train_inner | {\"epoch\": 4, \"update\": 3.074, \"loss\": \"11.668\", \"nll_loss\": \"10.977\", \"ppl\": \"2015.93\", \"wps\": \"2293.9\", \"ups\": \"2.99\", \"wpb\": \"767.4\", \"bsz\": \"48\", \"num_updates\": \"2330\", \"lr\": \"5.825e-05\", \"gnorm\": \"2.32\", \"train_wall\": \"3\", \"wall\": \"1546\"}\n",
            "2021-01-07 16:55:48 | INFO | train_inner | {\"epoch\": 4, \"update\": 3.087, \"loss\": \"11.4\", \"nll_loss\": \"10.678\", \"ppl\": \"1638.3\", \"wps\": \"2296.2\", \"ups\": \"3.46\", \"wpb\": \"662.7\", \"bsz\": \"48\", \"num_updates\": \"2340\", \"lr\": \"5.85e-05\", \"gnorm\": \"2.699\", \"train_wall\": \"3\", \"wall\": \"1548\"}\n",
            "2021-01-07 16:55:52 | INFO | train_inner | {\"epoch\": 4, \"update\": 3.1, \"loss\": \"11.75\", \"nll_loss\": \"11.051\", \"ppl\": \"2121.26\", \"wps\": \"2294.4\", \"ups\": \"2.53\", \"wpb\": \"908.6\", \"bsz\": \"48\", \"num_updates\": \"2350\", \"lr\": \"5.875e-05\", \"gnorm\": \"2.596\", \"train_wall\": \"4\", \"wall\": \"1552\"}\n",
            "2021-01-07 16:55:55 | INFO | train_inner | {\"epoch\": 4, \"update\": 3.113, \"loss\": \"11.28\", \"nll_loss\": \"10.545\", \"ppl\": \"1493.86\", \"wps\": \"2315\", \"ups\": \"3.43\", \"wpb\": \"675.9\", \"bsz\": \"48\", \"num_updates\": \"2360\", \"lr\": \"5.9e-05\", \"gnorm\": \"2.397\", \"train_wall\": \"3\", \"wall\": \"1555\"}\n"
          ],
          "name": "stdout"
        }
      ]
    }
  ]
}