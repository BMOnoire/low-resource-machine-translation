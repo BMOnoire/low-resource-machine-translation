{
 "cells": [
  {
   "cell_type": "code",
   "execution_count": 1,
   "metadata": {},
   "outputs": [
    {
     "data": {
      "text/plain": [
       "<module 'data' from 'C:\\\\Users\\\\katha\\\\Documents\\\\GitHub\\\\low-resource-machine-translation\\\\Data_clean_skripts\\\\data.py'>"
      ]
     },
     "execution_count": 1,
     "metadata": {},
     "output_type": "execute_result"
    }
   ],
   "source": [
    "import data\n",
    "import langid\n",
    "import importlib\n",
    "importlib.reload(data)"
   ]
  },
  {
   "cell_type": "code",
   "execution_count": 2,
   "metadata": {},
   "outputs": [],
   "source": [
    "TA_BLACKLIST = 'ABCDEFGHIJKLMNOPQRSTUVWXYZabcdefghijklmnopqrstuvwxyz-(\\')/[]♪/%#$&\\/_\"{.}|=<>@~`'\n",
    "EN_BLACKLIST = 'ABCDEFGHIJKLMNOPQRSTUVWXYZ\"#\"\"$%&\\()*+-./:;<=>@[\\\\]^_`♪{|}~='"
   ]
  },
  {
   "cell_type": "code",
   "execution_count": 3,
   "metadata": {},
   "outputs": [],
   "source": [
    "def readfile(filename):\n",
    "    return open(filename,encoding='utf-8').read().split('\\n')[:-1]"
   ]
  },
  {
   "cell_type": "markdown",
   "metadata": {},
   "source": [
    "# Loading raw data"
   ]
  },
  {
   "cell_type": "code",
   "execution_count": 4,
   "metadata": {},
   "outputs": [],
   "source": [
    "k = 'WMT_Dev'"
   ]
  },
  {
   "cell_type": "code",
   "execution_count": 6,
   "metadata": {},
   "outputs": [
    {
     "name": "stdout",
     "output_type": "stream",
     "text": [
      "2559\n",
      "2559\n",
      "2559\n",
      "2559\n",
      "2559\n"
     ]
    }
   ],
   "source": [
    "en_sent=[]\n",
    "for i in range(1,6):\n",
    "    file=readfile(f'../Corpus/{k}/newsdev2020-enta-src.en.sgm')\n",
    "    #file=readfile(f'ta_en_pairs/{k}/english.txt')\n",
    "    #file=readfile(f'Corpus/{k}/{k}_endata.txt')\n",
    "\n",
    "    print(len(file))\n",
    "    for i in range(len(file)):\n",
    "        en_sent.append(file[i])"
   ]
  },
  {
   "cell_type": "code",
   "execution_count": null,
   "metadata": {},
   "outputs": [],
   "source": []
  },
  {
   "cell_type": "code",
   "execution_count": 10,
   "metadata": {},
   "outputs": [
    {
     "data": {
      "text/plain": [
       "'<doc sysid=\"ref\" docid=\"seattle_times.7729\" genre=\"news\" origlang=\"en\">'"
      ]
     },
     "execution_count": 10,
     "metadata": {},
     "output_type": "execute_result"
    }
   ],
   "source": [
    "en_sent[1]"
   ]
  },
  {
   "cell_type": "code",
   "execution_count": 8,
   "metadata": {},
   "outputs": [],
   "source": [
    "import re\n",
    "en_sen=[]\n",
    "for i in range(len(en_sent)):\n",
    "    string = en_sent[i]\n",
    "    sent = re.sub('<.*?>', '', string)\n",
    "    en_sen.append(sent)"
   ]
  },
  {
   "cell_type": "code",
   "execution_count": null,
   "metadata": {},
   "outputs": [],
   "source": [
    "en_sen[10]"
   ]
  },
  {
   "cell_type": "code",
   "execution_count": null,
   "metadata": {},
   "outputs": [],
   "source": [
    "ta_sent=[]\n",
    "for i in range(1,6):\n",
    "    #file=readfile(f'Corpus/{k}/{k}_tadata.txt')\n",
    "    file=readfile(f'../Corpus/{k}/newsdev2020-enta-ref.ta.sgm')\n",
    "    #file=readfile(f'ta_en_pairs/{k}/tamil.txt')\n",
    "    for i in range(len(file)):\n",
    "        ta_sent.append(file[i])"
   ]
  },
  {
   "cell_type": "code",
   "execution_count": null,
   "metadata": {},
   "outputs": [],
   "source": [
    "ta_sent[10]"
   ]
  },
  {
   "cell_type": "code",
   "execution_count": null,
   "metadata": {},
   "outputs": [],
   "source": [
    "ta_sen=[]\n",
    "for i in range(len(ta_sent)):\n",
    "    string = ta_sent[i]\n",
    "    sent = re.sub('<.*?>', '', string)\n",
    "    ta_sen.append(sent)"
   ]
  },
  {
   "cell_type": "code",
   "execution_count": null,
   "metadata": {},
   "outputs": [],
   "source": [
    "ta_sen[19]"
   ]
  },
  {
   "cell_type": "markdown",
   "metadata": {},
   "source": [
    "# Clean and filter "
   ]
  },
  {
   "cell_type": "code",
   "execution_count": null,
   "metadata": {},
   "outputs": [],
   "source": [
    "en_lines = [ line.lower() for line in en_sen]\n",
    "\n",
    "ta_lines = [ data.filter_line(line, TA_BLACKLIST) for line in ta_sen ]\n",
    "en_lines = [ data.filter_line(line, EN_BLACKLIST) for line in en_lines ]\n",
    "\n",
    "ta_lines = [ \" \".join(line.split())+' .' for line in ta_lines ]\n",
    "en_lines = [ \" \".join(line.split())+' .' for line in en_lines ]"
   ]
  },
  {
   "cell_type": "code",
   "execution_count": null,
   "metadata": {},
   "outputs": [],
   "source": [
    "len(en_lines)"
   ]
  },
  {
   "cell_type": "code",
   "execution_count": null,
   "metadata": {},
   "outputs": [],
   "source": [
    "ta_lines, en_lines = data.filter_data(ta_lines, en_lines)"
   ]
  },
  {
   "cell_type": "code",
   "execution_count": null,
   "metadata": {},
   "outputs": [],
   "source": [
    "len(en_lines)"
   ]
  },
  {
   "cell_type": "code",
   "execution_count": null,
   "metadata": {},
   "outputs": [],
   "source": [
    "def save_clean_sentences(sentences1,sentences2,filename1,filename2):\n",
    "    file1 = open(filename1, 'w',encoding='utf-8')\n",
    "    file2 = open(filename2, 'w',encoding='utf-8')\n",
    "    for i,j in zip(sentences1,sentences2):\n",
    "        file1.write(\"%s\\n\" % i)\n",
    "        file2.write(\"%s\\n\" % j)"
   ]
  },
  {
   "cell_type": "code",
   "execution_count": null,
   "metadata": {},
   "outputs": [],
   "source": [
    "save_clean_sentences(en_lines,ta_lines,f'../Corpus/{k}/{k}_endata.txt',f'../Corpus/{k}/{k}_tadata.txt')"
   ]
  },
  {
   "cell_type": "code",
   "execution_count": null,
   "metadata": {},
   "outputs": [],
   "source": [
    "file1=readfile(f'../Corpus/{k}/{k}_endata.txt')\n",
    "file2=readfile(f'../Corpus/{k}/{k}_tadata.txt')"
   ]
  },
  {
   "cell_type": "markdown",
   "metadata": {},
   "source": [
    "# Removing Duplicates"
   ]
  },
  {
   "cell_type": "code",
   "execution_count": null,
   "metadata": {},
   "outputs": [],
   "source": [
    "mix=[]\n",
    "for i,j in zip(file1,file2):\n",
    "    mix.append(i+\"*|*\"+j)"
   ]
  },
  {
   "cell_type": "code",
   "execution_count": null,
   "metadata": {},
   "outputs": [],
   "source": [
    "len(mix)\n"
   ]
  },
  {
   "cell_type": "code",
   "execution_count": null,
   "metadata": {},
   "outputs": [],
   "source": [
    "mix=list(set(mix))"
   ]
  },
  {
   "cell_type": "code",
   "execution_count": null,
   "metadata": {},
   "outputs": [],
   "source": [
    "len(mix)"
   ]
  },
  {
   "cell_type": "code",
   "execution_count": null,
   "metadata": {},
   "outputs": [],
   "source": [
    "en_data=[]\n",
    "ta_data=[]\n",
    "for i in mix:\n",
    "    i=i.split(\"*|*\")\n",
    "    en_data.append(i[0])\n",
    "    ta_data.append(i[1])"
   ]
  },
  {
   "cell_type": "code",
   "execution_count": null,
   "metadata": {},
   "outputs": [],
   "source": [
    "mix[50]"
   ]
  },
  {
   "cell_type": "markdown",
   "metadata": {},
   "source": [
    "## Removing same source with different translation and same translation with different source"
   ]
  },
  {
   "cell_type": "code",
   "execution_count": null,
   "metadata": {},
   "outputs": [],
   "source": [
    "from collections import Counter"
   ]
  },
  {
   "cell_type": "code",
   "execution_count": null,
   "metadata": {},
   "outputs": [],
   "source": [
    "a=Counter(en_data)"
   ]
  },
  {
   "cell_type": "code",
   "execution_count": null,
   "metadata": {},
   "outputs": [],
   "source": [
    "remove=[]\n",
    "for i,j in a.items():\n",
    "    if j>1:\n",
    "        remove.append(i)"
   ]
  },
  {
   "cell_type": "code",
   "execution_count": null,
   "metadata": {},
   "outputs": [],
   "source": [
    "en_data2=[]\n",
    "ta_data2=[]\n",
    "for i in range(len(en_data)):\n",
    "    if en_data[i] not in remove:\n",
    "        en_data2.append(en_data[i])\n",
    "        ta_data2.append(ta_data[i])"
   ]
  },
  {
   "cell_type": "code",
   "execution_count": null,
   "metadata": {},
   "outputs": [],
   "source": [
    "len(en_data2)"
   ]
  },
  {
   "cell_type": "code",
   "execution_count": null,
   "metadata": {},
   "outputs": [],
   "source": [
    "b=Counter(ta_data2)"
   ]
  },
  {
   "cell_type": "code",
   "execution_count": null,
   "metadata": {},
   "outputs": [],
   "source": [
    "remove2=[]\n",
    "for i,j in b.items():\n",
    "    if j>1:\n",
    "        remove2.append(i)"
   ]
  },
  {
   "cell_type": "code",
   "execution_count": null,
   "metadata": {},
   "outputs": [],
   "source": [
    "len(remove2)"
   ]
  },
  {
   "cell_type": "code",
   "execution_count": null,
   "metadata": {},
   "outputs": [],
   "source": [
    "en_data3=[]\n",
    "ta_data3=[]\n",
    "for i in range(len(ta_data2)):\n",
    "    if ta_data2[i] not in remove2:\n",
    "        en_data3.append(en_data2[i])\n",
    "        ta_data3.append(ta_data2[i])"
   ]
  },
  {
   "cell_type": "code",
   "execution_count": null,
   "metadata": {},
   "outputs": [],
   "source": [
    "len(en_data3)"
   ]
  },
  {
   "cell_type": "code",
   "execution_count": null,
   "metadata": {},
   "outputs": [],
   "source": [
    "save_clean_sentences(en_data3,ta_data3,f'../Corpus/00_Single_Clean_unsplitted_Corpus/{k}_endata_unique.txt',f'../Corpus/00_Single_Clean_unsplitted_Corpus/{k}_tadata_unique.txt')"
   ]
  },
  {
   "cell_type": "markdown",
   "metadata": {},
   "source": [
    "## Adjusting remaining puctuation"
   ]
  },
  {
   "cell_type": "code",
   "execution_count": null,
   "metadata": {},
   "outputs": [],
   "source": [
    "new1=[]\n",
    "new2=[]\n",
    "for i in ta_data3:\n",
    "    i=i.replace(',',' ,')\n",
    "    i=i.replace('!',' !')\n",
    "    i=i.replace('?',' ?')\n",
    "    new1.append(i)\n",
    "for i in en_data3:\n",
    "    i=i.replace(',',' ,')\n",
    "    i=i.replace('!',' !')\n",
    "    i=i.replace('?',' ?')\n",
    "    new2.append(i)\n",
    "ta_data3=new1\n",
    "en_data3=new2"
   ]
  },
  {
   "cell_type": "code",
   "execution_count": null,
   "metadata": {},
   "outputs": [],
   "source": [
    "ta_data3[0:10]"
   ]
  },
  {
   "cell_type": "code",
   "execution_count": null,
   "metadata": {},
   "outputs": [],
   "source": [
    "en_data3[0:10]"
   ]
  },
  {
   "cell_type": "code",
   "execution_count": null,
   "metadata": {},
   "outputs": [],
   "source": [
    "len(en_data3)"
   ]
  },
  {
   "cell_type": "markdown",
   "metadata": {},
   "source": [
    "## Divide and save"
   ]
  },
  {
   "cell_type": "code",
   "execution_count": null,
   "metadata": {},
   "outputs": [],
   "source": [
    "def percentage(percent, whole):\n",
    "    return (percent * whole) / 100.0"
   ]
  },
  {
   "cell_type": "code",
   "execution_count": null,
   "metadata": {},
   "outputs": [],
   "source": [
    "percent = 70\n",
    "percent_val = 85\n",
    "boundry = percentage(percent,len(en_data3))\n",
    "boundry_train = round(boundry)\n",
    "\n",
    "oundry = percentage(percent_val,len(en_data3))\n",
    "boundry_val = round(oundry)\n"
   ]
  },
  {
   "cell_type": "code",
   "execution_count": null,
   "metadata": {},
   "outputs": [],
   "source": [
    "en_train=en_data3[0:boundry_train]\n",
    "ta_train=ta_data3[0:boundry_train]\n",
    "len(en_train)"
   ]
  },
  {
   "cell_type": "code",
   "execution_count": null,
   "metadata": {},
   "outputs": [],
   "source": [
    "en_val=en_data3[boundry_train:boundry_val]\n",
    "ta_val=ta_data3[boundry_train:boundry_val]\n",
    "len(en_val)"
   ]
  },
  {
   "cell_type": "code",
   "execution_count": null,
   "metadata": {},
   "outputs": [],
   "source": [
    "en_test=en_data3[boundry_val:]\n",
    "ta_test=ta_data3[boundry_val:]\n",
    "len(en_test)"
   ]
  },
  {
   "cell_type": "code",
   "execution_count": null,
   "metadata": {},
   "outputs": [],
   "source": [
    "save_clean_sentences(en_train,ta_train,f'../Corpus/01_Single_Train_Set/{k}_train.en',f'../Corpus/01_Single_Train_Set/{k}_train.ta')\n",
    "save_clean_sentences(en_test,ta_test,f'../Corpus/03_Single_Test_Sets/{k}_test.en',f'../Corpus/03_Single_Test_Sets/{k}_test.ta')\n",
    "save_clean_sentences(en_val,ta_val,f'../Corpus/02_Single_Validation_Sets/{k}_val.en',f'../Corpus/02_Single_Validation_Sets/{k}_val.ta')"
   ]
  },
  {
   "cell_type": "code",
   "execution_count": null,
   "metadata": {},
   "outputs": [],
   "source": []
  },
  {
   "cell_type": "code",
   "execution_count": null,
   "metadata": {},
   "outputs": [],
   "source": []
  },
  {
   "cell_type": "code",
   "execution_count": null,
   "metadata": {},
   "outputs": [],
   "source": []
  },
  {
   "cell_type": "markdown",
   "metadata": {},
   "source": [
    "## Check language"
   ]
  },
  {
   "cell_type": "code",
   "execution_count": null,
   "metadata": {},
   "outputs": [],
   "source": []
  },
  {
   "cell_type": "code",
   "execution_count": null,
   "metadata": {},
   "outputs": [],
   "source": [
    "langid.classify(\"Hallo, wie geht es dir?\")"
   ]
  },
  {
   "cell_type": "code",
   "execution_count": null,
   "metadata": {},
   "outputs": [],
   "source": []
  }
 ],
 "metadata": {
  "kernelspec": {
   "display_name": "Python 3",
   "language": "python",
   "name": "python3"
  },
  "language_info": {
   "codemirror_mode": {
    "name": "ipython",
    "version": 3
   },
   "file_extension": ".py",
   "mimetype": "text/x-python",
   "name": "python",
   "nbconvert_exporter": "python",
   "pygments_lexer": "ipython3",
   "version": "3.7.4"
  }
 },
 "nbformat": 4,
 "nbformat_minor": 2
}
